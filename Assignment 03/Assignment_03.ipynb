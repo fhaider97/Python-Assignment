{
 "cells": [
  {
   "cell_type": "markdown",
   "id": "9ac5c4c6",
   "metadata": {},
   "source": [
    "## Question No 01"
   ]
  },
  {
   "cell_type": "code",
   "execution_count": 36,
   "id": "bb7a05a4",
   "metadata": {},
   "outputs": [
    {
     "name": "stdout",
     "output_type": "stream",
     "text": [
      "Twinkle, twinkle, little star,\n",
      "\tHow I wonder what you are!\n",
      "\t\tUp above the world so high,\n",
      "\t\tLike a diamond in the sky.\n",
      "Twinkle, twinkle, little star,\n",
      "\tHow I wonder what you are!\n"
     ]
    }
   ],
   "source": [
    "print('Twinkle, twinkle, little star,')\n",
    "print('\\tHow I wonder what you are!')\n",
    "print('\\t\\tUp above the world so high,')\n",
    "print('\\t\\tLike a diamond in the sky.')\n",
    "print('Twinkle, twinkle, little star,')\n",
    "print('\\tHow I wonder what you are!')"
   ]
  },
  {
   "cell_type": "markdown",
   "id": "2075627b",
   "metadata": {},
   "source": [
    "## Question No 02"
   ]
  },
  {
   "cell_type": "code",
   "execution_count": 1,
   "id": "280a6dcb",
   "metadata": {},
   "outputs": [
    {
     "name": "stdout",
     "output_type": "stream",
     "text": [
      "3.8.8 (default, Apr 13 2021, 15:08:03) [MSC v.1916 64 bit (AMD64)]\n"
     ]
    }
   ],
   "source": [
    "import sys\n",
    "print(sys.version)"
   ]
  },
  {
   "cell_type": "markdown",
   "id": "61921068",
   "metadata": {},
   "source": [
    "## Question No 03"
   ]
  },
  {
   "cell_type": "code",
   "execution_count": 3,
   "id": "0d14f009",
   "metadata": {},
   "outputs": [
    {
     "name": "stdout",
     "output_type": "stream",
     "text": [
      "Today's Date: 2021-10-24 16:10:42.636792\n"
     ]
    }
   ],
   "source": [
    "from datetime import datetime\n",
    "\n",
    "today = datetime.now()\n",
    "print(\"Today's Date:\", today)"
   ]
  },
  {
   "cell_type": "markdown",
   "id": "93a506d6",
   "metadata": {},
   "source": [
    "## Question No 04"
   ]
  },
  {
   "cell_type": "code",
   "execution_count": 13,
   "id": "6fe78ffd",
   "metadata": {},
   "outputs": [
    {
     "name": "stdout",
     "output_type": "stream",
     "text": [
      "Please enter radius: 4\n",
      "50.272\n"
     ]
    }
   ],
   "source": [
    "radius = input('Please enter radius: ')\n",
    "radius = float(radius)\n",
    "area = 3.142 * (radius * radius)\n",
    "print(area)"
   ]
  },
  {
   "cell_type": "markdown",
   "id": "5baf9c52",
   "metadata": {},
   "source": [
    "## Question # 05"
   ]
  },
  {
   "cell_type": "code",
   "execution_count": 2,
   "id": "7ae3e093",
   "metadata": {},
   "outputs": [
    {
     "name": "stdout",
     "output_type": "stream",
     "text": [
      "Input your First Name : Fatima\n",
      "Input your Last Name : Haider\n",
      "Hello Haider Fatima\n"
     ]
    }
   ],
   "source": [
    "fName = input(\"Input your First Name : \")\n",
    "lName = input(\"Input your Last Name : \")\n",
    "print (\"Hello \" + lName + \" \" + fName)"
   ]
  },
  {
   "cell_type": "markdown",
   "id": "4f7c076c",
   "metadata": {},
   "source": [
    "## Question No 06"
   ]
  },
  {
   "cell_type": "code",
   "execution_count": 15,
   "id": "8ae7a3ae",
   "metadata": {},
   "outputs": [
    {
     "name": "stdout",
     "output_type": "stream",
     "text": [
      "Enter Number 1: 55\n",
      "Enter Number 2: 44.4\n",
      "Addition of two number is  99.4\n"
     ]
    }
   ],
   "source": [
    "a = float(input('Enter Number 1: '))\n",
    "b = float(input('Enter Number 2: '))\n",
    "result = a+b;\n",
    "print('Addition of two number is ',result)"
   ]
  },
  {
   "cell_type": "markdown",
   "id": "8cd23078",
   "metadata": {},
   "source": [
    "## Question No 07"
   ]
  },
  {
   "cell_type": "code",
   "execution_count": 18,
   "id": "04585d44",
   "metadata": {},
   "outputs": [
    {
     "name": "stdout",
     "output_type": "stream",
     "text": [
      "Enter Marks of Islamiat :78\n",
      "Enter Marks of English :67\n",
      "Enter Marks of Maths :90\n",
      "Enter Marks of Physics :90\n",
      "Enter Marks of Chemistry :90\n",
      "Marks of Islamiat : \t 78.0\n",
      "Marks of English : \t 67.0\n",
      "Marks of Math : \t 90.0\n",
      "Marks of Physics : \t 90.0\n",
      "Marks of Chemistry : \t 90.0\n",
      "Total Marks : \t 415.0\n",
      "Percentage : \t 83.0 %\n"
     ]
    }
   ],
   "source": [
    "islamiat = float(input('Enter Marks of Islamiat :'))\n",
    "english = float(input('Enter Marks of English :'))\n",
    "math = float(input('Enter Marks of Maths :'))\n",
    "physics = float(input('Enter Marks of Physics :'))\n",
    "chemistry = float(input('Enter Marks of Chemistry :'))\n",
    "\n",
    "total = islamiat + english + math + physics + chemistry\n",
    "percentage = (total * 100)/500\n",
    "print('Marks of Islamiat : \\t',islamiat)\n",
    "print('Marks of English : \\t',english)\n",
    "print('Marks of Math : \\t',math)\n",
    "print('Marks of Physics : \\t',physics)\n",
    "print('Marks of Chemistry : \\t',chemistry)\n",
    "\n",
    "print('Total Marks : \\t',total)\n",
    "print('Percentage : \\t',percentage,'%')"
   ]
  },
  {
   "cell_type": "markdown",
   "id": "022dbfb1",
   "metadata": {},
   "source": [
    "## Question No 08"
   ]
  },
  {
   "cell_type": "code",
   "execution_count": 23,
   "id": "f592d17f",
   "metadata": {},
   "outputs": [
    {
     "name": "stdout",
     "output_type": "stream",
     "text": [
      "Enter number to check :33\n",
      "33 is Odd Number\n"
     ]
    }
   ],
   "source": [
    "number = int(input('Enter number to check :'))\n",
    "if number % 2 == 0:\n",
    "    print(number,'is Even Number')\n",
    "else:\n",
    "    print(number,'is Odd Number')"
   ]
  },
  {
   "cell_type": "markdown",
   "id": "17d7afe7",
   "metadata": {},
   "source": [
    "## Question No 09"
   ]
  },
  {
   "cell_type": "code",
   "execution_count": 4,
   "id": "d8122ded",
   "metadata": {},
   "outputs": [
    {
     "name": "stdout",
     "output_type": "stream",
     "text": [
      "Length of list is:  5\n"
     ]
    }
   ],
   "source": [
    "list = [1,'Fatima','Haider', 33.4,True]\n",
    "print('Length of list is: ',len(list))"
   ]
  },
  {
   "cell_type": "markdown",
   "id": "e9d1e318",
   "metadata": {},
   "source": [
    "## Question No 10"
   ]
  },
  {
   "cell_type": "code",
   "execution_count": 33,
   "id": "6cd86765",
   "metadata": {},
   "outputs": [
    {
     "name": "stdout",
     "output_type": "stream",
     "text": [
      "Sum of Numbers in list is :  533\n"
     ]
    }
   ],
   "source": [
    "num_list = [43,2,34,45,98,55,66,87,33,14,56]\n",
    "sumOfList = 0\n",
    "for num in num_list:\n",
    "    sumOfList += num\n",
    "        \n",
    "print('Sum of Numbers in list is : ',sumOfList)"
   ]
  },
  {
   "cell_type": "markdown",
   "id": "2d87044b",
   "metadata": {},
   "source": [
    "## Question No 11"
   ]
  },
  {
   "cell_type": "code",
   "execution_count": 34,
   "id": "ffa2add6",
   "metadata": {},
   "outputs": [
    {
     "name": "stdout",
     "output_type": "stream",
     "text": [
      "Largest Number is :  98\n"
     ]
    }
   ],
   "source": [
    "num_list = [43,2,34,45,98,55,66,87,33,14,56]\n",
    "largest = 0\n",
    "for num in num_list:\n",
    "    if num > largest:\n",
    "        largest = num\n",
    "        \n",
    "print('Largest Number is : ',largest)"
   ]
  },
  {
   "cell_type": "markdown",
   "id": "96faac7b",
   "metadata": {},
   "source": [
    "## Question No 12"
   ]
  },
  {
   "cell_type": "code",
   "execution_count": 35,
   "id": "fc143ca8",
   "metadata": {},
   "outputs": [
    {
     "name": "stdout",
     "output_type": "stream",
     "text": [
      "1\n",
      "1\n",
      "2\n",
      "3\n"
     ]
    }
   ],
   "source": [
    "a = [1, 1, 2, 3, 5, 8, 13, 21, 34, 55, 89]\n",
    "for num in a:\n",
    "    if num < 5:\n",
    "        print(num)"
   ]
  },
  {
   "cell_type": "code",
   "execution_count": null,
   "id": "25d743a3",
   "metadata": {},
   "outputs": [],
   "source": []
  },
  {
   "cell_type": "code",
   "execution_count": null,
   "id": "f0baa2f2",
   "metadata": {},
   "outputs": [],
   "source": []
  },
  {
   "cell_type": "code",
   "execution_count": null,
   "id": "5c49d52b",
   "metadata": {},
   "outputs": [],
   "source": []
  },
  {
   "cell_type": "code",
   "execution_count": null,
   "id": "9ea0b849",
   "metadata": {},
   "outputs": [],
   "source": []
  },
  {
   "cell_type": "code",
   "execution_count": null,
   "id": "bc8bd779",
   "metadata": {},
   "outputs": [],
   "source": []
  },
  {
   "cell_type": "code",
   "execution_count": null,
   "id": "62b6b01e",
   "metadata": {},
   "outputs": [],
   "source": []
  },
  {
   "cell_type": "code",
   "execution_count": null,
   "id": "256fafd2",
   "metadata": {},
   "outputs": [],
   "source": []
  },
  {
   "cell_type": "code",
   "execution_count": null,
   "id": "17644d26",
   "metadata": {},
   "outputs": [],
   "source": []
  },
  {
   "cell_type": "code",
   "execution_count": null,
   "id": "bc3c9cb2",
   "metadata": {},
   "outputs": [],
   "source": []
  },
  {
   "cell_type": "code",
   "execution_count": null,
   "id": "ada52a7f",
   "metadata": {},
   "outputs": [],
   "source": []
  },
  {
   "cell_type": "code",
   "execution_count": null,
   "id": "cbbabfb4",
   "metadata": {},
   "outputs": [],
   "source": []
  },
  {
   "cell_type": "code",
   "execution_count": null,
   "id": "8e4c1be1",
   "metadata": {},
   "outputs": [],
   "source": []
  },
  {
   "cell_type": "code",
   "execution_count": null,
   "id": "96d581a9",
   "metadata": {},
   "outputs": [],
   "source": []
  },
  {
   "cell_type": "code",
   "execution_count": null,
   "id": "03f4a84b",
   "metadata": {},
   "outputs": [],
   "source": []
  },
  {
   "cell_type": "code",
   "execution_count": null,
   "id": "8f541f7b",
   "metadata": {},
   "outputs": [],
   "source": []
  },
  {
   "cell_type": "code",
   "execution_count": null,
   "id": "f72f7f5c",
   "metadata": {},
   "outputs": [],
   "source": []
  }
 ],
 "metadata": {
  "kernelspec": {
   "display_name": "Python 3",
   "language": "python",
   "name": "python3"
  },
  "language_info": {
   "codemirror_mode": {
    "name": "ipython",
    "version": 3
   },
   "file_extension": ".py",
   "mimetype": "text/x-python",
   "name": "python",
   "nbconvert_exporter": "python",
   "pygments_lexer": "ipython3",
   "version": "3.8.8"
  }
 },
 "nbformat": 4,
 "nbformat_minor": 5
}
