{
 "cells": [
  {
   "cell_type": "markdown",
   "id": "e5a2b835",
   "metadata": {},
   "source": [
    "# Question 01"
   ]
  },
  {
   "cell_type": "code",
   "execution_count": 1,
   "id": "36e374ef",
   "metadata": {},
   "outputs": [
    {
     "name": "stdout",
     "output_type": "stream",
     "text": [
      "Select operation.\n",
      "1.Add\n",
      "2.Subtract\n",
      "3.Multiply\n",
      "4.Divide\n",
      "Enter choice(1/2/3/4): 3\n",
      "Enter operand 1: 4\n",
      "Enter operand 2: 4\n",
      "4.0 * 4.0 = 16.0\n"
     ]
    }
   ],
   "source": [
    "def add(x, y):\n",
    "    return x + y\n",
    "\n",
    "def subtract(x, y):\n",
    "    return x - y\n",
    "\n",
    "def multiply(x, y):\n",
    "    return x * y\n",
    "\n",
    "def divide(x, y):\n",
    "    return x / y\n",
    "\n",
    "\n",
    "print(\"Select operation.\")\n",
    "print(\"1.Add\")\n",
    "print(\"2.Subtract\")\n",
    "print(\"3.Multiply\")\n",
    "print(\"4.Divide\")\n",
    "\n",
    "choice = input(\"Enter choice(1/2/3/4): \")\n",
    "if choice in ('1', '2', '3', '4'):\n",
    "    num1 = float(input(\"Enter operand 1: \"))\n",
    "    num2 = float(input(\"Enter operand 2: \"))\n",
    "\n",
    "    if choice == '1':\n",
    "        print(num1, \"+\", num2, \"=\", add(num1, num2))\n",
    "\n",
    "    elif choice == '2':\n",
    "        print(num1, \"-\", num2, \"=\", subtract(num1, num2))\n",
    "\n",
    "    elif choice == '3':\n",
    "        print(num1, \"*\", num2, \"=\", multiply(num1, num2))\n",
    "\n",
    "    elif choice == '4':\n",
    "        print(num1, \"/\", num2, \"=\", divide(num1, num2))\n",
    "    else:\n",
    "        print(\"Invalid Choice\")"
   ]
  },
  {
   "cell_type": "markdown",
   "id": "c0560389",
   "metadata": {},
   "source": [
    "# Question 02"
   ]
  },
  {
   "cell_type": "code",
   "execution_count": 2,
   "id": "272c1857",
   "metadata": {},
   "outputs": [
    {
     "name": "stdout",
     "output_type": "stream",
     "text": [
      "There is numeric data in list\n"
     ]
    }
   ],
   "source": [
    "simpleList = [\"a\",\"b\",\"c\",55,77]\n",
    "\n",
    "number = 1\n",
    "hasNumericData = False;\n",
    "for value in simpleList:\n",
    "    if type(value) == type(number):\n",
    "        hasNumericData = True\n",
    "        \n",
    "if(hasNumericData):\n",
    "    print(\"There is numeric data in list\")\n",
    "else:\n",
    "    print(\"There is no numeric data in list\")\n"
   ]
  },
  {
   "cell_type": "markdown",
   "id": "8c427871",
   "metadata": {},
   "source": [
    "# Question 03"
   ]
  },
  {
   "cell_type": "code",
   "execution_count": 3,
   "id": "56a142be",
   "metadata": {},
   "outputs": [
    {
     "name": "stdout",
     "output_type": "stream",
     "text": [
      "{'1': 'Fatima', '2': 'Haider'}\n"
     ]
    }
   ],
   "source": [
    "myDetails = {\n",
    "    \"1\":\"Fatima\",\n",
    "}\n",
    "myDetails[\"2\"] = \"Haider\"\n",
    "print(myDetails)"
   ]
  },
  {
   "cell_type": "markdown",
   "id": "36feb230",
   "metadata": {},
   "source": [
    "# Question 04"
   ]
  },
  {
   "cell_type": "code",
   "execution_count": 4,
   "id": "3f1a007e",
   "metadata": {},
   "outputs": [
    {
     "name": "stdout",
     "output_type": "stream",
     "text": [
      "121\n"
     ]
    }
   ],
   "source": [
    "listOfNum = {\n",
    "    \"1\":4,\n",
    "    \"2\":54,\n",
    "    \"3\":4,\n",
    "    \"4\":56,\n",
    "    \"5\":2,\n",
    "    \"6\":1,\n",
    "}\n",
    "total = listOfNum.values()\n",
    "result = 0\n",
    "for num in total:\n",
    "    result = result + num;\n",
    "print(result)"
   ]
  },
  {
   "cell_type": "markdown",
   "id": "6f6fb73a",
   "metadata": {},
   "source": [
    "# Quuestion 05"
   ]
  },
  {
   "cell_type": "code",
   "execution_count": 5,
   "id": "4bc8c1af",
   "metadata": {},
   "outputs": [
    {
     "name": "stdout",
     "output_type": "stream",
     "text": [
      "Duplicate Values :\n",
      "2\n",
      "3\n",
      "4\n",
      "5\n"
     ]
    }
   ],
   "source": [
    "l=[1,2,3,4,5,2,3,4,7,9,5]\n",
    "l1=[]\n",
    "print(\"Duplicate Values :\")\n",
    "for i in l:\n",
    "    if i not in l1:\n",
    "        l1.append(i)\n",
    "    else:\n",
    "        print(i)\n"
   ]
  },
  {
   "cell_type": "markdown",
   "id": "046059de",
   "metadata": {},
   "source": [
    "# Question 06"
   ]
  },
  {
   "cell_type": "code",
   "execution_count": 6,
   "id": "00de4d63",
   "metadata": {},
   "outputs": [
    {
     "name": "stdout",
     "output_type": "stream",
     "text": [
      "Key Already Exist\n"
     ]
    }
   ],
   "source": [
    "d = {1: 10, 2: 20, 3: 30, 4: 40, 5: 50, 6: 60}\n",
    "def verifyKey(x):\n",
    "  if x in d:\n",
    "      print('Key Already Exist')\n",
    "  else:\n",
    "      print('Key not Exists')\n",
    "verifyKey(5)\n"
   ]
  },
  {
   "cell_type": "code",
   "execution_count": null,
   "id": "11e54a70",
   "metadata": {},
   "outputs": [],
   "source": []
  },
  {
   "cell_type": "code",
   "execution_count": null,
   "id": "65884729",
   "metadata": {},
   "outputs": [],
   "source": []
  },
  {
   "cell_type": "code",
   "execution_count": null,
   "id": "040641fa",
   "metadata": {},
   "outputs": [],
   "source": []
  }
 ],
 "metadata": {
  "kernelspec": {
   "display_name": "Python 3",
   "language": "python",
   "name": "python3"
  },
  "language_info": {
   "codemirror_mode": {
    "name": "ipython",
    "version": 3
   },
   "file_extension": ".py",
   "mimetype": "text/x-python",
   "name": "python",
   "nbconvert_exporter": "python",
   "pygments_lexer": "ipython3",
   "version": "3.8.8"
  }
 },
 "nbformat": 4,
 "nbformat_minor": 5
}
